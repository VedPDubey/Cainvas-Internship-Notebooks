{
 "cells": [
  {
   "cell_type": "code",
   "execution_count": null,
   "metadata": {},
   "outputs": [],
   "source": [
    "!wget -N \"https://cainvas-static.s3.amazonaws.com/media/user_data/dvedprakash2/freiburg_groceries_dataset.zip\"\n",
    "!unzip -o freiburg_groceries_dataset.zip \n",
    "!rm freiburg_groceries_dataset.zip"
   ]
  },
  {
   "cell_type": "code",
   "execution_count": 1,
   "metadata": {
    "execution": {
     "iopub.execute_input": "2021-06-24T05:23:16.214069Z",
     "iopub.status.busy": "2021-06-24T05:23:16.213790Z",
     "iopub.status.idle": "2021-06-24T05:23:18.017738Z",
     "shell.execute_reply": "2021-06-24T05:23:18.017175Z",
     "shell.execute_reply.started": "2021-06-24T05:23:16.214001Z"
    }
   },
   "outputs": [],
   "source": [
    "import pandas as pd\n",
    "import os,shutil,math,scipy,cv2\n",
    "import numpy as np\n",
    "import matplotlib.pyplot as plt\n",
    "import random as rn\n",
    "\n",
    "from sklearn.utils import shuffle\n",
    "from sklearn.metrics import classification_report\n",
    "from sklearn.model_selection import train_test_split\n",
    "from sklearn.preprocessing import LabelEncoder\n",
    "from sklearn.metrics import confusion_matrix,roc_curve,auc\n",
    "\n",
    "from PIL import Image\n",
    "from PIL import Image as pil_image\n",
    "from PIL import ImageDraw\n",
    "\n",
    "from time import time\n",
    "from glob import glob\n",
    "from tqdm import tqdm\n",
    "from skimage.io import imread\n",
    "from IPython.display import SVG\n",
    "\n",
    "from scipy import misc,ndimage\n",
    "from scipy.ndimage.interpolation import zoom\n",
    "from imageio import imread\n",
    "\n",
    "\n",
    "from tensorflow.keras import backend as K\n",
    "from tensorflow.keras.utils import to_categorical\n",
    "from tensorflow.keras import layers\n",
    "from tensorflow.keras.preprocessing.image import save_img\n",
    "from tensorflow.keras.utils import model_to_dot\n",
    "from tensorflow.keras.models import Sequential,Model\n",
    "from tensorflow.keras.layers import Input\n",
    "from tensorflow.keras.layers import Dense,Flatten,Dropout,Concatenate,GlobalAveragePooling2D,Lambda,ZeroPadding2D\n",
    "from tensorflow.keras.layers import SeparableConv2D,BatchNormalization,MaxPooling2D,Conv2D\n",
    "from tensorflow.keras.preprocessing.image import ImageDataGenerator\n",
    "from tensorflow.keras.optimizers import Adam,SGD\n",
    "from tensorflow.keras.utils import plot_model\n",
    "from tensorflow.keras.callbacks import ModelCheckpoint,EarlyStopping,ReduceLROnPlateau,LearningRateScheduler"
   ]
  },
  {
   "cell_type": "code",
   "execution_count": 14,
   "metadata": {
    "execution": {
     "iopub.execute_input": "2021-06-24T05:40:01.804281Z",
     "iopub.status.busy": "2021-06-24T05:40:01.804057Z",
     "iopub.status.idle": "2021-06-24T05:40:01.808926Z",
     "shell.execute_reply": "2021-06-24T05:40:01.808375Z",
     "shell.execute_reply.started": "2021-06-24T05:40:01.804260Z"
    }
   },
   "outputs": [],
   "source": [
    "def show_final_history(history):\n",
    "    fig, ax = plt.subplots(1, 2, figsize=(15,5))\n",
    "    ax[0].set_title('loss')\n",
    "    ax[0].plot(history.epoch, history.history[\"loss\"], label=\"Train loss\")\n",
    "    ax[0].plot(history.epoch, history.history[\"val_loss\"], label=\"Validation loss\")\n",
    "    ax[1].set_title('acc')\n",
    "    ax[1].plot(history.epoch, history.history[\"accuracy\"], label=\"Train acc\")\n",
    "    ax[1].plot(history.epoch, history.history[\"val_accuracy\"], label=\"Validation acc\")\n",
    "    ax[0].legend()\n",
    "    ax[1].legend()"
   ]
  },
  {
   "cell_type": "code",
   "execution_count": 3,
   "metadata": {
    "execution": {
     "iopub.execute_input": "2021-06-24T05:23:26.350653Z",
     "iopub.status.busy": "2021-06-24T05:23:26.350499Z",
     "iopub.status.idle": "2021-06-24T05:23:26.354339Z",
     "shell.execute_reply": "2021-06-24T05:23:26.353887Z",
     "shell.execute_reply.started": "2021-06-24T05:23:26.350636Z"
    }
   },
   "outputs": [],
   "source": [
    "def label_assignment(img,label):\n",
    "    return label\n",
    "\n",
    "def training_data(label,data_dir):\n",
    "    for img in tqdm(os.listdir(data_dir)):\n",
    "        label = label_assignment(img,label)\n",
    "        path = os.path.join(data_dir,img)\n",
    "        img = cv2.imread(path,cv2.IMREAD_COLOR)\n",
    "        img = cv2.resize(img,(imgsize,imgsize))\n",
    "        \n",
    "        X.append(np.array(img))\n",
    "        Z.append(str(label))"
   ]
  },
  {
   "cell_type": "code",
   "execution_count": 4,
   "metadata": {
    "execution": {
     "iopub.execute_input": "2021-06-24T05:23:26.355418Z",
     "iopub.status.busy": "2021-06-24T05:23:26.355250Z",
     "iopub.status.idle": "2021-06-24T05:23:39.402059Z",
     "shell.execute_reply": "2021-06-24T05:23:39.401542Z",
     "shell.execute_reply.started": "2021-06-24T05:23:26.355401Z"
    }
   },
   "outputs": [
    {
     "name": "stderr",
     "output_type": "stream",
     "text": [
      "100%|██████████| 136/136 [00:00<00:00, 358.79it/s]\n",
      "100%|██████████| 161/161 [00:00<00:00, 358.46it/s]\n",
      "100%|██████████| 372/372 [00:01<00:00, 335.07it/s]\n",
      "100%|██████████| 278/278 [00:00<00:00, 364.57it/s]\n",
      "100%|██████████| 181/181 [00:00<00:00, 380.72it/s]\n",
      "100%|██████████| 307/307 [00:00<00:00, 441.41it/s]\n",
      "100%|██████████| 298/298 [00:00<00:00, 393.70it/s]\n",
      "100%|██████████| 97/97 [00:00<00:00, 356.84it/s]\n",
      "100%|██████████| 110/110 [00:00<00:00, 433.60it/s]\n",
      "100%|██████████| 109/109 [00:00<00:00, 408.34it/s]\n",
      "100%|██████████| 185/185 [00:00<00:00, 366.27it/s]\n",
      "100%|██████████| 241/241 [00:00<00:00, 395.26it/s]\n",
      "100%|██████████| 302/302 [00:00<00:00, 401.90it/s]\n",
      "100%|██████████| 162/162 [00:00<00:00, 362.36it/s]\n",
      "100%|██████████| 168/168 [00:00<00:00, 422.49it/s]\n",
      "100%|██████████| 143/143 [00:00<00:00, 374.79it/s]\n",
      "100%|██████████| 172/172 [00:00<00:00, 382.56it/s]\n",
      "100%|██████████| 150/150 [00:00<00:00, 381.64it/s]\n",
      "100%|██████████| 177/177 [00:00<00:00, 362.47it/s]\n",
      "100%|██████████| 207/207 [00:00<00:00, 383.22it/s]\n",
      "100%|██████████| 118/118 [00:00<00:00, 369.83it/s]\n",
      "100%|██████████| 283/283 [00:00<00:00, 358.41it/s]\n",
      "100%|██████████| 171/171 [00:00<00:00, 352.16it/s]\n",
      "100%|██████████| 157/157 [00:00<00:00, 406.93it/s]\n",
      "100%|██████████| 262/262 [00:00<00:00, 407.92it/s]\n"
     ]
    }
   ],
   "source": [
    "beans = 'dataset/freiburg_groceries_dataset/images/BEANS'\n",
    "cake = 'dataset/freiburg_groceries_dataset/images/CAKE'\n",
    "candy = 'dataset/freiburg_groceries_dataset/images/CANDY'\n",
    "cereal = 'dataset/freiburg_groceries_dataset/images/CEREAL'\n",
    "chips = 'dataset/freiburg_groceries_dataset/images/CHIPS'\n",
    "chocolate = 'dataset/freiburg_groceries_dataset/images/CHOCOLATE'\n",
    "coffee = 'dataset/freiburg_groceries_dataset/images/COFFEE'\n",
    "corn = 'dataset/freiburg_groceries_dataset/images/CORN'\n",
    "fish = 'dataset/freiburg_groceries_dataset/images/FISH'\n",
    "flour = 'dataset/freiburg_groceries_dataset/images/FLOUR'\n",
    "honey = 'dataset/freiburg_groceries_dataset/images/HONEY'\n",
    "jam = 'dataset/freiburg_groceries_dataset/images/JAM'\n",
    "juice = 'dataset/freiburg_groceries_dataset/images/JUICE'\n",
    "milk = 'dataset/freiburg_groceries_dataset/images/MILK'\n",
    "nuts = 'dataset/freiburg_groceries_dataset/images/NUTS'\n",
    "oil = 'dataset/freiburg_groceries_dataset/images/OIL'\n",
    "pasta = 'dataset/freiburg_groceries_dataset/images/PASTA'\n",
    "rice = 'dataset/freiburg_groceries_dataset/images/RICE'\n",
    "soda = 'dataset/freiburg_groceries_dataset/images/SODA'\n",
    "spices = 'dataset/freiburg_groceries_dataset/images/SPICES'\n",
    "sugar = 'dataset/freiburg_groceries_dataset/images/SUGAR'\n",
    "tea = 'dataset/freiburg_groceries_dataset/images/TEA'\n",
    "tomato_sauce = 'dataset/freiburg_groceries_dataset/images/TOMATO_SAUCE'\n",
    "vinegar = 'dataset/freiburg_groceries_dataset/images/VINEGAR'\n",
    "water = 'dataset/freiburg_groceries_dataset/images/WATER'\n",
    "\n",
    "X = []\n",
    "Z = []\n",
    "imgsize = 90\n",
    "\n",
    "\n",
    "training_data('beans',beans)\n",
    "training_data('cake',cake)\n",
    "training_data('candy',candy)\n",
    "training_data('cereal',cereal)\n",
    "training_data('chips',chips)\n",
    "training_data('chocolate',chocolate)\n",
    "training_data('coffee',coffee)\n",
    "training_data('corn',corn)\n",
    "training_data('fish',fish)\n",
    "training_data('flour',flour)\n",
    "training_data('honey',honey)\n",
    "training_data('jam',jam)\n",
    "training_data('juice',juice)\n",
    "training_data('milk',milk)\n",
    "training_data('nuts',nuts)\n",
    "training_data('oil',oil)\n",
    "training_data('psata',pasta)\n",
    "training_data('rice',rice)\n",
    "training_data('soda',soda)\n",
    "training_data('spices',spices)\n",
    "training_data('sugar',sugar)\n",
    "training_data('tea',tea)\n",
    "training_data('tomato sauce',tomato_sauce)\n",
    "training_data('vinegar',vinegar)\n",
    "training_data('water',water)"
   ]
  },
  {
   "cell_type": "code",
   "execution_count": 6,
   "metadata": {
    "execution": {
     "iopub.execute_input": "2021-06-24T05:23:39.406364Z",
     "iopub.status.busy": "2021-06-24T05:23:39.406215Z",
     "iopub.status.idle": "2021-06-24T05:23:43.619092Z",
     "shell.execute_reply": "2021-06-24T05:23:43.618427Z",
     "shell.execute_reply.started": "2021-06-24T05:23:39.406347Z"
    }
   },
   "outputs": [],
   "source": [
    "from tensorflow.keras.applications import ResNet50\n",
    "model = Sequential()\n",
    "model.add(ResNet50(include_top=False,input_shape=(imgsize,imgsize,3), weights='imagenet', pooling='max'))\n",
    "model.add(Dense(25, activation='softmax'))"
   ]
  },
  {
   "cell_type": "code",
   "execution_count": 7,
   "metadata": {
    "execution": {
     "iopub.execute_input": "2021-06-24T05:23:43.620159Z",
     "iopub.status.busy": "2021-06-24T05:23:43.619977Z",
     "iopub.status.idle": "2021-06-24T05:23:44.393406Z",
     "shell.execute_reply": "2021-06-24T05:23:44.392739Z",
     "shell.execute_reply.started": "2021-06-24T05:23:43.620139Z"
    }
   },
   "outputs": [],
   "source": [
    "label_encoder= LabelEncoder()\n",
    "Y = label_encoder.fit_transform(Z)\n",
    "Y = to_categorical(Y,25)\n",
    "X = np.array(X)\n",
    "X=X/255\n",
    "\n",
    "x_train,x_test,y_train,y_test = train_test_split(X,Y,test_size=0.2,random_state=42)"
   ]
  },
  {
   "cell_type": "code",
   "execution_count": 8,
   "metadata": {
    "execution": {
     "iopub.execute_input": "2021-06-24T05:23:44.394444Z",
     "iopub.status.busy": "2021-06-24T05:23:44.394270Z",
     "iopub.status.idle": "2021-06-24T05:23:44.397700Z",
     "shell.execute_reply": "2021-06-24T05:23:44.397173Z",
     "shell.execute_reply.started": "2021-06-24T05:23:44.394425Z"
    }
   },
   "outputs": [],
   "source": [
    "augs_gen = ImageDataGenerator(\n",
    "        featurewise_center=False,  \n",
    "        samplewise_center=False, \n",
    "        featurewise_std_normalization=False,  \n",
    "        samplewise_std_normalization=False,  \n",
    "        zca_whitening=False,  \n",
    "        rotation_range=10,  \n",
    "        zoom_range = 0.1, \n",
    "        width_shift_range=0.2,  \n",
    "        height_shift_range=0.2, \n",
    "        horizontal_flip=True,  \n",
    "        vertical_flip=False) "
   ]
  },
  {
   "cell_type": "code",
   "execution_count": 9,
   "metadata": {
    "execution": {
     "iopub.execute_input": "2021-06-24T05:23:44.399301Z",
     "iopub.status.busy": "2021-06-24T05:23:44.399132Z",
     "iopub.status.idle": "2021-06-24T05:23:44.747575Z",
     "shell.execute_reply": "2021-06-24T05:23:44.746884Z",
     "shell.execute_reply.started": "2021-06-24T05:23:44.399283Z"
    }
   },
   "outputs": [],
   "source": [
    "augs_gen.fit(x_train)"
   ]
  },
  {
   "cell_type": "code",
   "execution_count": 10,
   "metadata": {
    "execution": {
     "iopub.execute_input": "2021-06-24T05:23:44.748891Z",
     "iopub.status.busy": "2021-06-24T05:23:44.748710Z",
     "iopub.status.idle": "2021-06-24T05:23:44.751387Z",
     "shell.execute_reply": "2021-06-24T05:23:44.750839Z",
     "shell.execute_reply.started": "2021-06-24T05:23:44.748872Z"
    }
   },
   "outputs": [],
   "source": [
    "# fig,ax=plt.subplots(3,3)\n",
    "# fig.set_size_inches(15,15)\n",
    "# for i in range(3):\n",
    "#     for j in range (3):\n",
    "#         l=rn.randint(0,len(Z))\n",
    "#         ax[i,j].imshow(X[l])\n",
    "#         ax[i,j].set_title('Grocery: '+Z[l])\n",
    "        \n",
    "# plt.tight_layout()"
   ]
  },
  {
   "cell_type": "code",
   "execution_count": 11,
   "metadata": {
    "execution": {
     "iopub.execute_input": "2021-06-24T05:23:44.752223Z",
     "iopub.status.busy": "2021-06-24T05:23:44.752072Z",
     "iopub.status.idle": "2021-06-24T05:23:44.756721Z",
     "shell.execute_reply": "2021-06-24T05:23:44.756207Z",
     "shell.execute_reply.started": "2021-06-24T05:23:44.752206Z"
    }
   },
   "outputs": [],
   "source": [
    "checkpoint = ModelCheckpoint(\n",
    "    './base.model',\n",
    "    monitor='val_accuracy',\n",
    "    verbose=1,\n",
    "    save_best_only=True,\n",
    "    mode='max',\n",
    "    save_weights_only=False,\n",
    "    save_frequency=1\n",
    ")\n",
    "earlystop = EarlyStopping(\n",
    "    monitor='val_loss',\n",
    "    min_delta=0.001,\n",
    "    patience=30,\n",
    "    verbose=1,\n",
    "    mode='auto'\n",
    ")\n",
    "reduce = ReduceLROnPlateau(\n",
    "    monitor='val_loss',\n",
    "    factor=0.1,\n",
    "    patience=3,\n",
    "    verbose=1, \n",
    "    mode='auto'\n",
    ")\n",
    "\n",
    "callbacks = [checkpoint,reduce]"
   ]
  },
  {
   "cell_type": "code",
   "execution_count": 12,
   "metadata": {
    "execution": {
     "iopub.execute_input": "2021-06-24T05:23:44.757536Z",
     "iopub.status.busy": "2021-06-24T05:23:44.757386Z",
     "iopub.status.idle": "2021-06-24T05:38:17.453852Z",
     "shell.execute_reply": "2021-06-24T05:38:17.453323Z",
     "shell.execute_reply.started": "2021-06-24T05:23:44.757519Z"
    }
   },
   "outputs": [
    {
     "name": "stdout",
     "output_type": "stream",
     "text": [
      "WARNING:tensorflow:From <ipython-input-12-cd611f100eec>:17: Model.fit_generator (from tensorflow.python.keras.engine.training) is deprecated and will be removed in a future version.\n",
      "Instructions for updating:\n",
      "Please use Model.fit, which supports generators.\n",
      "Epoch 1/30\n",
      "123/123 [==============================] - ETA: 0s - loss: 5.3131 - accuracy: 0.2054WARNING:tensorflow:Your input ran out of data; interrupting training. Make sure that your dataset or generator can generate at least `steps_per_epoch * epochs` batches (in this case, 123 batches). You may need to use the repeat() function when building your dataset.\n",
      "\n",
      "Epoch 00001: val_accuracy improved from -inf to 0.03232, saving model to ./base.model\n",
      "WARNING:tensorflow:From /home/jupyter-dvedprakash2/.local/lib/python3.7/site-packages/tensorflow/python/ops/resource_variable_ops.py:1817: calling BaseResourceVariable.__init__ (from tensorflow.python.ops.resource_variable_ops) with constraint is deprecated and will be removed in a future version.\n",
      "Instructions for updating:\n",
      "If using Keras pass *_constraint arguments to layers.\n",
      "INFO:tensorflow:Assets written to: ./base.model/assets\n",
      "123/123 [==============================] - 130s 1s/step - loss: 5.3131 - accuracy: 0.2054 - val_loss: 954.3455 - val_accuracy: 0.0323 - lr: 1.0000e-04\n",
      "Epoch 2/30\n",
      "123/123 [==============================] - ETA: 0s - loss: 3.3614 - accuracy: 0.3806WARNING:tensorflow:Your input ran out of data; interrupting training. Make sure that your dataset or generator can generate at least `steps_per_epoch * epochs` batches (in this case, 123 batches). You may need to use the repeat() function when building your dataset.\n",
      "\n",
      "Epoch 00002: val_accuracy improved from 0.03232 to 0.04747, saving model to ./base.model\n",
      "INFO:tensorflow:Assets written to: ./base.model/assets\n",
      "123/123 [==============================] - 37s 297ms/step - loss: 3.3614 - accuracy: 0.3806 - val_loss: 215.2646 - val_accuracy: 0.0475 - lr: 1.0000e-04\n",
      "Epoch 3/30\n",
      "123/123 [==============================] - ETA: 0s - loss: 2.4435 - accuracy: 0.4848WARNING:tensorflow:Your input ran out of data; interrupting training. Make sure that your dataset or generator can generate at least `steps_per_epoch * epochs` batches (in this case, 123 batches). You may need to use the repeat() function when building your dataset.\n",
      "\n",
      "Epoch 00003: val_accuracy did not improve from 0.04747\n",
      "123/123 [==============================] - 11s 91ms/step - loss: 2.4435 - accuracy: 0.4848 - val_loss: 4.6175 - val_accuracy: 0.0263 - lr: 1.0000e-04\n",
      "Epoch 4/30\n",
      "123/123 [==============================] - ETA: 0s - loss: 1.8809 - accuracy: 0.5246WARNING:tensorflow:Your input ran out of data; interrupting training. Make sure that your dataset or generator can generate at least `steps_per_epoch * epochs` batches (in this case, 123 batches). You may need to use the repeat() function when building your dataset.\n",
      "\n",
      "Epoch 00004: val_accuracy did not improve from 0.04747\n",
      "123/123 [==============================] - 11s 91ms/step - loss: 1.8809 - accuracy: 0.5246 - val_loss: 3.6645 - val_accuracy: 0.0354 - lr: 1.0000e-04\n",
      "Epoch 5/30\n",
      "123/123 [==============================] - ETA: 0s - loss: 1.5559 - accuracy: 0.5916WARNING:tensorflow:Your input ran out of data; interrupting training. Make sure that your dataset or generator can generate at least `steps_per_epoch * epochs` batches (in this case, 123 batches). You may need to use the repeat() function when building your dataset.\n",
      "\n",
      "Epoch 00005: val_accuracy did not improve from 0.04747\n",
      "123/123 [==============================] - 11s 92ms/step - loss: 1.5559 - accuracy: 0.5916 - val_loss: 3.9727 - val_accuracy: 0.0434 - lr: 1.0000e-04\n",
      "Epoch 6/30\n",
      "123/123 [==============================] - ETA: 0s - loss: 1.2242 - accuracy: 0.6688WARNING:tensorflow:Your input ran out of data; interrupting training. Make sure that your dataset or generator can generate at least `steps_per_epoch * epochs` batches (in this case, 123 batches). You may need to use the repeat() function when building your dataset.\n",
      "\n",
      "Epoch 00006: val_accuracy improved from 0.04747 to 0.10606, saving model to ./base.model\n",
      "INFO:tensorflow:Assets written to: ./base.model/assets\n",
      "123/123 [==============================] - 37s 297ms/step - loss: 1.2242 - accuracy: 0.6688 - val_loss: 3.9939 - val_accuracy: 0.1061 - lr: 1.0000e-04\n",
      "Epoch 7/30\n",
      "123/123 [==============================] - ETA: 0s - loss: 1.0587 - accuracy: 0.7098WARNING:tensorflow:Your input ran out of data; interrupting training. Make sure that your dataset or generator can generate at least `steps_per_epoch * epochs` batches (in this case, 123 batches). You may need to use the repeat() function when building your dataset.\n",
      "\n",
      "Epoch 00007: val_accuracy improved from 0.10606 to 0.28384, saving model to ./base.model\n",
      "INFO:tensorflow:Assets written to: ./base.model/assets\n",
      "123/123 [==============================] - 37s 299ms/step - loss: 1.0587 - accuracy: 0.7098 - val_loss: 3.1119 - val_accuracy: 0.2838 - lr: 1.0000e-04\n",
      "Epoch 8/30\n",
      "123/123 [==============================] - ETA: 0s - loss: 0.8935 - accuracy: 0.7478WARNING:tensorflow:Your input ran out of data; interrupting training. Make sure that your dataset or generator can generate at least `steps_per_epoch * epochs` batches (in this case, 123 batches). You may need to use the repeat() function when building your dataset.\n",
      "\n",
      "Epoch 00008: val_accuracy improved from 0.28384 to 0.41717, saving model to ./base.model\n",
      "INFO:tensorflow:Assets written to: ./base.model/assets\n",
      "123/123 [==============================] - 36s 296ms/step - loss: 0.8935 - accuracy: 0.7478 - val_loss: 2.5935 - val_accuracy: 0.4172 - lr: 1.0000e-04\n",
      "Epoch 9/30\n",
      "123/123 [==============================] - ETA: 0s - loss: 0.7440 - accuracy: 0.7829WARNING:tensorflow:Your input ran out of data; interrupting training. Make sure that your dataset or generator can generate at least `steps_per_epoch * epochs` batches (in this case, 123 batches). You may need to use the repeat() function when building your dataset.\n",
      "\n",
      "Epoch 00009: val_accuracy improved from 0.41717 to 0.57273, saving model to ./base.model\n",
      "INFO:tensorflow:Assets written to: ./base.model/assets\n",
      "123/123 [==============================] - 37s 298ms/step - loss: 0.7440 - accuracy: 0.7829 - val_loss: 2.5833 - val_accuracy: 0.5727 - lr: 1.0000e-04\n",
      "Epoch 10/30\n",
      "123/123 [==============================] - ETA: 0s - loss: 0.6727 - accuracy: 0.8089WARNING:tensorflow:Your input ran out of data; interrupting training. Make sure that your dataset or generator can generate at least `steps_per_epoch * epochs` batches (in this case, 123 batches). You may need to use the repeat() function when building your dataset.\n",
      "\n",
      "Epoch 00010: val_accuracy improved from 0.57273 to 0.63737, saving model to ./base.model\n",
      "INFO:tensorflow:Assets written to: ./base.model/assets\n",
      "123/123 [==============================] - 37s 299ms/step - loss: 0.6727 - accuracy: 0.8089 - val_loss: 1.4645 - val_accuracy: 0.6374 - lr: 1.0000e-04\n",
      "Epoch 11/30\n",
      "123/123 [==============================] - ETA: 0s - loss: 0.5161 - accuracy: 0.8474WARNING:tensorflow:Your input ran out of data; interrupting training. Make sure that your dataset or generator can generate at least `steps_per_epoch * epochs` batches (in this case, 123 batches). You may need to use the repeat() function when building your dataset.\n",
      "\n",
      "Epoch 00011: val_accuracy improved from 0.63737 to 0.66364, saving model to ./base.model\n",
      "INFO:tensorflow:Assets written to: ./base.model/assets\n",
      "123/123 [==============================] - 37s 304ms/step - loss: 0.5161 - accuracy: 0.8474 - val_loss: 1.3635 - val_accuracy: 0.6636 - lr: 1.0000e-04\n",
      "Epoch 12/30\n",
      "123/123 [==============================] - ETA: 0s - loss: 0.4312 - accuracy: 0.8639WARNING:tensorflow:Your input ran out of data; interrupting training. Make sure that your dataset or generator can generate at least `steps_per_epoch * epochs` batches (in this case, 123 batches). You may need to use the repeat() function when building your dataset.\n",
      "\n",
      "Epoch 00012: val_accuracy did not improve from 0.66364\n",
      "123/123 [==============================] - 11s 92ms/step - loss: 0.4312 - accuracy: 0.8639 - val_loss: 1.7617 - val_accuracy: 0.6152 - lr: 1.0000e-04\n",
      "Epoch 13/30\n",
      "123/123 [==============================] - ETA: 0s - loss: 0.4028 - accuracy: 0.8869WARNING:tensorflow:Your input ran out of data; interrupting training. Make sure that your dataset or generator can generate at least `steps_per_epoch * epochs` batches (in this case, 123 batches). You may need to use the repeat() function when building your dataset.\n",
      "\n",
      "Epoch 00013: val_accuracy did not improve from 0.66364\n",
      "123/123 [==============================] - 11s 92ms/step - loss: 0.4028 - accuracy: 0.8869 - val_loss: 1.7525 - val_accuracy: 0.6172 - lr: 1.0000e-04\n",
      "Epoch 14/30\n",
      "123/123 [==============================] - ETA: 0s - loss: 0.3628 - accuracy: 0.8971WARNING:tensorflow:Your input ran out of data; interrupting training. Make sure that your dataset or generator can generate at least `steps_per_epoch * epochs` batches (in this case, 123 batches). You may need to use the repeat() function when building your dataset.\n",
      "\n",
      "Epoch 00014: val_accuracy did not improve from 0.66364\n",
      "\n",
      "Epoch 00014: ReduceLROnPlateau reducing learning rate to 9.999999747378752e-06.\n",
      "123/123 [==============================] - 12s 94ms/step - loss: 0.3628 - accuracy: 0.8971 - val_loss: 1.6074 - val_accuracy: 0.6596 - lr: 1.0000e-04\n",
      "Epoch 15/30\n",
      "123/123 [==============================] - ETA: 0s - loss: 0.4090 - accuracy: 0.8820WARNING:tensorflow:Your input ran out of data; interrupting training. Make sure that your dataset or generator can generate at least `steps_per_epoch * epochs` batches (in this case, 123 batches). You may need to use the repeat() function when building your dataset.\n",
      "\n",
      "Epoch 00015: val_accuracy did not improve from 0.66364\n",
      "123/123 [==============================] - 12s 95ms/step - loss: 0.4090 - accuracy: 0.8820 - val_loss: 3.3702 - val_accuracy: 0.6182 - lr: 1.0000e-05\n",
      "Epoch 16/30\n",
      "123/123 [==============================] - ETA: 0s - loss: 0.3991 - accuracy: 0.8958WARNING:tensorflow:Your input ran out of data; interrupting training. Make sure that your dataset or generator can generate at least `steps_per_epoch * epochs` batches (in this case, 123 batches). You may need to use the repeat() function when building your dataset.\n",
      "\n",
      "Epoch 00016: val_accuracy improved from 0.66364 to 0.69394, saving model to ./base.model\n",
      "INFO:tensorflow:Assets written to: ./base.model/assets\n",
      "123/123 [==============================] - 38s 306ms/step - loss: 0.3991 - accuracy: 0.8958 - val_loss: 1.4347 - val_accuracy: 0.6939 - lr: 1.0000e-05\n",
      "Epoch 17/30\n",
      "123/123 [==============================] - ETA: 0s - loss: 0.2791 - accuracy: 0.9192WARNING:tensorflow:Your input ran out of data; interrupting training. Make sure that your dataset or generator can generate at least `steps_per_epoch * epochs` batches (in this case, 123 batches). You may need to use the repeat() function when building your dataset.\n",
      "\n",
      "Epoch 00017: val_accuracy improved from 0.69394 to 0.70606, saving model to ./base.model\n",
      "INFO:tensorflow:Assets written to: ./base.model/assets\n",
      "\n",
      "Epoch 00017: ReduceLROnPlateau reducing learning rate to 9.999999747378752e-07.\n",
      "123/123 [==============================] - 38s 311ms/step - loss: 0.2791 - accuracy: 0.9192 - val_loss: 1.4711 - val_accuracy: 0.7061 - lr: 1.0000e-05\n",
      "Epoch 18/30\n",
      "123/123 [==============================] - ETA: 0s - loss: 0.2582 - accuracy: 0.9248WARNING:tensorflow:Your input ran out of data; interrupting training. Make sure that your dataset or generator can generate at least `steps_per_epoch * epochs` batches (in this case, 123 batches). You may need to use the repeat() function when building your dataset.\n",
      "\n",
      "Epoch 00018: val_accuracy did not improve from 0.70606\n",
      "123/123 [==============================] - 12s 94ms/step - loss: 0.2582 - accuracy: 0.9248 - val_loss: 1.5038 - val_accuracy: 0.7061 - lr: 1.0000e-06\n",
      "Epoch 19/30\n",
      "123/123 [==============================] - ETA: 0s - loss: 0.2581 - accuracy: 0.9304WARNING:tensorflow:Your input ran out of data; interrupting training. Make sure that your dataset or generator can generate at least `steps_per_epoch * epochs` batches (in this case, 123 batches). You may need to use the repeat() function when building your dataset.\n",
      "\n",
      "Epoch 00019: val_accuracy improved from 0.70606 to 0.71010, saving model to ./base.model\n",
      "INFO:tensorflow:Assets written to: ./base.model/assets\n",
      "123/123 [==============================] - 38s 309ms/step - loss: 0.2581 - accuracy: 0.9304 - val_loss: 1.5037 - val_accuracy: 0.7101 - lr: 1.0000e-06\n",
      "Epoch 20/30\n",
      "123/123 [==============================] - ETA: 0s - loss: 0.2144 - accuracy: 0.9315WARNING:tensorflow:Your input ran out of data; interrupting training. Make sure that your dataset or generator can generate at least `steps_per_epoch * epochs` batches (in this case, 123 batches). You may need to use the repeat() function when building your dataset.\n",
      "\n",
      "Epoch 00020: val_accuracy improved from 0.71010 to 0.71313, saving model to ./base.model\n",
      "INFO:tensorflow:Assets written to: ./base.model/assets\n",
      "123/123 [==============================] - 38s 310ms/step - loss: 0.2144 - accuracy: 0.9315 - val_loss: 1.3412 - val_accuracy: 0.7131 - lr: 1.0000e-06\n",
      "Epoch 21/30\n",
      "123/123 [==============================] - ETA: 0s - loss: 0.2210 - accuracy: 0.9330WARNING:tensorflow:Your input ran out of data; interrupting training. Make sure that your dataset or generator can generate at least `steps_per_epoch * epochs` batches (in this case, 123 batches). You may need to use the repeat() function when building your dataset.\n",
      "\n",
      "Epoch 00021: val_accuracy did not improve from 0.71313\n",
      "123/123 [==============================] - 12s 94ms/step - loss: 0.2210 - accuracy: 0.9330 - val_loss: 1.4013 - val_accuracy: 0.7131 - lr: 1.0000e-06\n",
      "Epoch 22/30\n",
      "123/123 [==============================] - ETA: 0s - loss: 0.2396 - accuracy: 0.9325WARNING:tensorflow:Your input ran out of data; interrupting training. Make sure that your dataset or generator can generate at least `steps_per_epoch * epochs` batches (in this case, 123 batches). You may need to use the repeat() function when building your dataset.\n",
      "\n",
      "Epoch 00022: val_accuracy did not improve from 0.71313\n",
      "123/123 [==============================] - 12s 95ms/step - loss: 0.2396 - accuracy: 0.9325 - val_loss: 1.4493 - val_accuracy: 0.7101 - lr: 1.0000e-06\n",
      "Epoch 23/30\n",
      "123/123 [==============================] - ETA: 0s - loss: 0.2161 - accuracy: 0.9371WARNING:tensorflow:Your input ran out of data; interrupting training. Make sure that your dataset or generator can generate at least `steps_per_epoch * epochs` batches (in this case, 123 batches). You may need to use the repeat() function when building your dataset.\n",
      "\n",
      "Epoch 00023: val_accuracy improved from 0.71313 to 0.71919, saving model to ./base.model\n",
      "INFO:tensorflow:Assets written to: ./base.model/assets\n",
      "\n",
      "Epoch 00023: ReduceLROnPlateau reducing learning rate to 9.999999974752428e-08.\n",
      "123/123 [==============================] - 39s 314ms/step - loss: 0.2161 - accuracy: 0.9371 - val_loss: 1.3720 - val_accuracy: 0.7192 - lr: 1.0000e-06\n",
      "Epoch 24/30\n",
      "123/123 [==============================] - ETA: 0s - loss: 0.2170 - accuracy: 0.9361WARNING:tensorflow:Your input ran out of data; interrupting training. Make sure that your dataset or generator can generate at least `steps_per_epoch * epochs` batches (in this case, 123 batches). You may need to use the repeat() function when building your dataset.\n",
      "\n",
      "Epoch 00024: val_accuracy improved from 0.71919 to 0.72222, saving model to ./base.model\n",
      "INFO:tensorflow:Assets written to: ./base.model/assets\n",
      "123/123 [==============================] - 38s 308ms/step - loss: 0.2170 - accuracy: 0.9361 - val_loss: 1.3390 - val_accuracy: 0.7222 - lr: 1.0000e-07\n",
      "Epoch 25/30\n",
      "123/123 [==============================] - ETA: 0s - loss: 0.1900 - accuracy: 0.9432WARNING:tensorflow:Your input ran out of data; interrupting training. Make sure that your dataset or generator can generate at least `steps_per_epoch * epochs` batches (in this case, 123 batches). You may need to use the repeat() function when building your dataset.\n",
      "\n",
      "Epoch 00025: val_accuracy did not improve from 0.72222\n",
      "123/123 [==============================] - 12s 94ms/step - loss: 0.1900 - accuracy: 0.9432 - val_loss: 1.3209 - val_accuracy: 0.7212 - lr: 1.0000e-07\n",
      "Epoch 26/30\n",
      "123/123 [==============================] - ETA: 0s - loss: 0.2278 - accuracy: 0.9304WARNING:tensorflow:Your input ran out of data; interrupting training. Make sure that your dataset or generator can generate at least `steps_per_epoch * epochs` batches (in this case, 123 batches). You may need to use the repeat() function when building your dataset.\n",
      "\n",
      "Epoch 00026: val_accuracy did not improve from 0.72222\n",
      "123/123 [==============================] - 12s 95ms/step - loss: 0.2278 - accuracy: 0.9304 - val_loss: 1.3886 - val_accuracy: 0.7182 - lr: 1.0000e-07\n",
      "Epoch 27/30\n",
      "123/123 [==============================] - ETA: 0s - loss: 0.2168 - accuracy: 0.9361WARNING:tensorflow:Your input ran out of data; interrupting training. Make sure that your dataset or generator can generate at least `steps_per_epoch * epochs` batches (in this case, 123 batches). You may need to use the repeat() function when building your dataset.\n",
      "\n",
      "Epoch 00027: val_accuracy did not improve from 0.72222\n",
      "123/123 [==============================] - 12s 96ms/step - loss: 0.2168 - accuracy: 0.9361 - val_loss: 1.3484 - val_accuracy: 0.7192 - lr: 1.0000e-07\n",
      "Epoch 28/30\n",
      "123/123 [==============================] - ETA: 0s - loss: 0.2144 - accuracy: 0.9368WARNING:tensorflow:Your input ran out of data; interrupting training. Make sure that your dataset or generator can generate at least `steps_per_epoch * epochs` batches (in this case, 123 batches). You may need to use the repeat() function when building your dataset.\n",
      "\n",
      "Epoch 00028: val_accuracy did not improve from 0.72222\n",
      "\n",
      "Epoch 00028: ReduceLROnPlateau reducing learning rate to 1.0000000116860975e-08.\n",
      "123/123 [==============================] - 12s 96ms/step - loss: 0.2144 - accuracy: 0.9368 - val_loss: 1.3848 - val_accuracy: 0.7182 - lr: 1.0000e-07\n",
      "Epoch 29/30\n",
      "123/123 [==============================] - ETA: 0s - loss: 0.2124 - accuracy: 0.9373WARNING:tensorflow:Your input ran out of data; interrupting training. Make sure that your dataset or generator can generate at least `steps_per_epoch * epochs` batches (in this case, 123 batches). You may need to use the repeat() function when building your dataset.\n",
      "\n",
      "Epoch 00029: val_accuracy did not improve from 0.72222\n",
      "123/123 [==============================] - 12s 96ms/step - loss: 0.2124 - accuracy: 0.9373 - val_loss: 1.3488 - val_accuracy: 0.7192 - lr: 1.0000e-08\n",
      "Epoch 30/30\n",
      "123/123 [==============================] - ETA: 0s - loss: 0.2322 - accuracy: 0.9320WARNING:tensorflow:Your input ran out of data; interrupting training. Make sure that your dataset or generator can generate at least `steps_per_epoch * epochs` batches (in this case, 123 batches). You may need to use the repeat() function when building your dataset.\n",
      "\n",
      "Epoch 00030: val_accuracy did not improve from 0.72222\n",
      "123/123 [==============================] - 12s 96ms/step - loss: 0.2322 - accuracy: 0.9320 - val_loss: 1.3398 - val_accuracy: 0.7202 - lr: 1.0000e-08\n"
     ]
    }
   ],
   "source": [
    "opt = SGD(lr=1e-4,momentum=0.99)\n",
    "opt1 = Adam(lr=1e-3)\n",
    "\n",
    "model.compile(\n",
    "    loss='categorical_crossentropy',\n",
    "    optimizer=opt,\n",
    "    metrics=['accuracy']\n",
    ")\n",
    "\n",
    "history = model.fit_generator(\n",
    "    augs_gen.flow(x_train,y_train,batch_size=32),\n",
    "    validation_data  = (x_test,y_test),\n",
    "    validation_steps = len(x_train)//32,\n",
    "    steps_per_epoch  = len(x_train)//32,\n",
    "    epochs = 30, \n",
    "    verbose = 1,\n",
    "    callbacks=callbacks\n",
    ")"
   ]
  },
  {
   "cell_type": "code",
   "execution_count": 17,
   "metadata": {
    "execution": {
     "iopub.execute_input": "2021-06-24T05:48:40.140482Z",
     "iopub.status.busy": "2021-06-24T05:48:40.140252Z",
     "iopub.status.idle": "2021-06-24T05:48:40.921081Z",
     "shell.execute_reply": "2021-06-24T05:48:40.920550Z",
     "shell.execute_reply.started": "2021-06-24T05:48:40.140460Z"
    }
   },
   "outputs": [
    {
     "name": "stdout",
     "output_type": "stream",
     "text": [
      "Weights Saved\n"
     ]
    },
    {
     "data": {
      "image/png": "[encoded data removed]",
      "text/plain": [
       "<Figure size 1080x360 with 2 Axes>"
      ]
     },
     "metadata": {
      "needs_background": "light"
     },
     "output_type": "display_data"
    }
   ],
   "source": [
    "show_final_history(history)\n",
    "# model.load_weights('base.model')\n",
    "\n",
    "model_json = model.to_json()\n",
    "with open(\"model.json\",\"w\") as json_file:\n",
    "    json_file.write(model_json)\n",
    "    \n",
    "model.save(\"model.h5\")\n",
    "print(\"Weights Saved\")"
   ]
  }
 ],
 "metadata": {
  "kernelspec": {
   "display_name": "Python 3",
   "language": "python",
   "name": "python3"
  },
  "language_info": {
   "codemirror_mode": {
    "name": "ipython",
    "version": 3
   },
   "file_extension": ".py",
   "mimetype": "text/x-python",
   "name": "python",
   "nbconvert_exporter": "python",
   "pygments_lexer": "ipython3",
   "version": "3.7.3"
  }
 },
 "nbformat": 4,
 "nbformat_minor": 4
}
